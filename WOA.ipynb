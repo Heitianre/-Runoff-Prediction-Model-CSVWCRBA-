{
 "cells": [
  {
   "cell_type": "markdown",
   "id": "0b737e5e",
   "metadata": {},
   "source": [
    "### WOA（Sample code）"
   ]
  },
  {
   "cell_type": "code",
   "execution_count": null,
   "id": "e55ef5eb",
   "metadata": {},
   "outputs": [],
   "source": [
    "import numpy as np\n",
    "\n",
    "class WhaleOptimizationAlgorithm:\n",
    "    def __init__(self, obj_func, dim, lb, ub, max_iter=100, pop_size=30):\n",
    "        self.obj_func = obj_func\n",
    "        self.dim = dim\n",
    "        self.lb = lb\n",
    "        self.ub = ub\n",
    "        self.max_iter = max_iter\n",
    "        self.pop_size = pop_size\n",
    "        \n",
    "    def optimize(self):\n",
    "        # 初始化参数\n",
    "        a = 2.0  # 包围系数[1,2](@ref)\n",
    "        b = 1.0  # 螺旋形状常数\n",
    "        \n",
    "        # 初始化种群\n",
    "        positions = np.random.uniform(self.lb, self.ub, (self.pop_size, self.dim))\n",
    "        fitness = np.array([self.obj_func(x) for x in positions])\n",
    "        best_idx = np.argmin(fitness)\n",
    "        best_pos = positions[best_idx].copy()\n",
    "        best_fit = fitness[best_idx]\n",
    "        convergence = []\n",
    "        \n",
    "        for t in range(self.max_iter):\n",
    "            a_linear = 2 - t * (2 / self.max_iter)  # 线性递减参数[2](@ref)\n",
    "            \n",
    "            for i in range(self.pop_size):\n",
    "                A = 2 * a_linear * np.random.rand() - a_linear\n",
    "                C = 2 * np.random.rand()\n",
    "                p = np.random.rand()\n",
    "                \n",
    "                # 包围猎物或螺旋更新[1](@ref)\n",
    "                if p < 0.5:\n",
    "                    if abs(A) < 1:\n",
    "                        D = abs(C * best_pos - positions[i])\n",
    "                        positions[i] = best_pos - A * D  # 收缩包围\n",
    "                    else:\n",
    "                        rand_idx = np.random.randint(0, self.pop_size)\n",
    "                        X_rand = positions[rand_idx]\n",
    "                        D = abs(C * X_rand - positions[i])\n",
    "                        positions[i] = X_rand - A * D    # 全局搜索\n",
    "                else:\n",
    "                    distance = abs(best_pos - positions[i])\n",
    "                    positions[i] = distance * np.exp(b * (2*np.pi*np.random.rand())) * np.cos(2*np.pi*np.random.rand()) + best_pos\n",
    "                \n",
    "                # 边界约束\n",
    "                positions[i] = np.clip(positions[i], self.lb, self.ub)\n",
    "                \n",
    "                # 更新适应度\n",
    "                new_fitness = self.obj_func(positions[i])\n",
    "                if new_fitness < best_fit:\n",
    "                    best_pos = positions[i].copy()\n",
    "                    best_fit = new_fitness\n",
    "            \n",
    "            convergence.append(best_fit)\n",
    "        \n",
    "        return best_pos, best_fit, convergence\n",
    "\n",
    "# 示例调用\n",
    "woa = WhaleOptimizationAlgorithm(sphere, dim=3, lb=[-5,-5,-5], ub=[5,5,5])\n",
    "best_sol, best_fit, curve = woa.optimize()\n",
    "print(f\"WOA最优解：{best_sol.round(4)}, 适应度：{best_fit:.6f}\")"
   ]
  }
 ],
 "metadata": {
  "kernelspec": {
   "display_name": "DL",
   "language": "python",
   "name": "dl"
  },
  "language_info": {
   "codemirror_mode": {
    "name": "ipython",
    "version": 3
   },
   "file_extension": ".py",
   "mimetype": "text/x-python",
   "name": "python",
   "nbconvert_exporter": "python",
   "pygments_lexer": "ipython3",
   "version": "3.9.21"
  }
 },
 "nbformat": 4,
 "nbformat_minor": 5
}
