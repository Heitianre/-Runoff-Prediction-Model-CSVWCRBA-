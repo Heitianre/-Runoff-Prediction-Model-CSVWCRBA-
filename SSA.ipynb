{
 "cells": [
  {
   "cell_type": "markdown",
   "id": "2ab52c28",
   "metadata": {},
   "source": [
    "### SSA(Sample code)"
   ]
  },
  {
   "cell_type": "code",
   "execution_count": null,
   "id": "d8b1bce1",
   "metadata": {},
   "outputs": [],
   "source": [
    "import numpy as np\n",
    "\n",
    "class SparrowSearchAlgorithm:\n",
    "    def __init__(self, obj_func, dim, lb, ub, max_iter=100, pop_size=30, PD_ratio=0.2, SD_ratio=0.1):\n",
    "        self.obj_func = obj_func\n",
    "        self.dim = dim\n",
    "        self.lb = lb\n",
    "        self.ub = ub\n",
    "        self.max_iter = max_iter\n",
    "        self.pop_size = pop_size\n",
    "        self.PD = int(pop_size * PD_ratio)  # 发现者数量[7,8](@ref)\n",
    "        self.SD = int(pop_size * SD_ratio)  # 警戒者数量\n",
    "        self.ST = 0.6                        # 安全阈值\n",
    "        \n",
    "    def optimize(self):\n",
    "        # 初始化种群\n",
    "        X = np.random.uniform(self.lb, self.ub, (self.pop_size, self.dim))\n",
    "        fitness = np.array([self.obj_func(x) for x in X])\n",
    "        gbest = X[np.argmin(fitness)]\n",
    "        gbest_fit = np.min(fitness)\n",
    "        convergence = []\n",
    "        \n",
    "        for t in range(self.max_iter):\n",
    "            # 发现者更新（Eq.3）\n",
    "            R2 = np.random.rand()\n",
    "            for i in range(self.PD):\n",
    "                if R2 < self.ST:\n",
    "                    X[i] *= np.exp(-i / (0.5 * self.max_iter))  # 指数衰减搜索[8](@ref)\n",
    "                else:\n",
    "                    X[i] += np.random.randn(self.dim) * 0.1      # 随机扰动\n",
    "            \n",
    "            # 加入者更新（Eq.4）\n",
    "            A = np.random.choice([-1, 1], self.dim)\n",
    "            for i in range(self.PD, self.pop_size):\n",
    "                if i > (self.pop_size + self.PD) // 2:\n",
    "                    X[i] = np.random.randn(self.dim) * np.exp((gbest - X[i]) / (i+1)**2)\n",
    "                else:\n",
    "                    X[i] = gbest + np.abs(X[i] - gbest).dot(A) * (A / (A @ A.T))\n",
    "            \n",
    "            # 警戒者更新（Eq.5）\n",
    "            danger_idx = np.random.choice(self.pop_size, self.SD, replace=False)\n",
    "            for j in danger_idx:\n",
    "                if fitness[j] > gbest_fit:\n",
    "                    X[j] = gbest + np.random.randn(self.dim) * np.abs(X[j] - gbest)\n",
    "                else:\n",
    "                    K = 2 * np.random.rand() - 1\n",
    "                    X[j] += K * (np.abs(X[j] - X[-1]) / (fitness[j] - fitness[-1] + 1e-8))\n",
    "            \n",
    "            # 边界约束与适应度更新\n",
    "            X = np.clip(X, self.lb, self.ub)\n",
    "            fitness = np.array([self.obj_func(x) for x in X])\n",
    "            \n",
    "            # 更新全局最优\n",
    "            if (current_min := np.min(fitness)) < gbest_fit:\n",
    "                gbest = X[np.argmin(fitness)]\n",
    "                gbest_fit = current_min\n",
    "            convergence.append(gbest_fit)\n",
    "        \n",
    "        return gbest, gbest_fit, convergence\n",
    "\n",
    "# 示例调用\n",
    "def sphere(x):\n",
    "    return sum(x**2)\n",
    "\n",
    "ssa = SparrowSearchAlgorithm(sphere, dim=3, lb=[-5,-5,-5], ub=[5,5,5])\n",
    "best_sol, best_fit, curve = ssa.optimize()\n",
    "print(f\"SSA最优解：{best_sol.round(4)}, 适应度：{best_fit:.6f}\")"
   ]
  }
 ],
 "metadata": {
  "kernelspec": {
   "display_name": "DL",
   "language": "python",
   "name": "dl"
  },
  "language_info": {
   "codemirror_mode": {
    "name": "ipython",
    "version": 3
   },
   "file_extension": ".py",
   "mimetype": "text/x-python",
   "name": "python",
   "nbconvert_exporter": "python",
   "pygments_lexer": "ipython3",
   "version": "3.9.21"
  }
 },
 "nbformat": 4,
 "nbformat_minor": 5
}
